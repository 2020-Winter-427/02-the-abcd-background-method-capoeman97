{
 "cells": [
  {
   "cell_type": "markdown",
   "metadata": {},
   "source": [
    "# Phys 427 Lab 2"
   ]
  },
  {
   "cell_type": "code",
   "execution_count": 1,
   "metadata": {},
   "outputs": [],
   "source": [
    "import numpy as np\n",
    "import matplotlib.pyplot as plot"
   ]
  },
  {
   "cell_type": "markdown",
   "metadata": {},
   "source": [
    "## Mathematical Method\n",
    "\n",
    "#### We currently wish to prove that if our background axes are independant, then the ABCD method is valid. That is to say that if $f(x, y) = f_1(x)*f_2(x)$ then the ABCD method is valid. The ABCD method says that the ratios of the number of bins B & D and A & C are equal.\n",
    "\n",
    "#### $$ \\frac{N_B}{N_D} = \\frac{N_A}{N_C} $$\n",
    "\n",
    "#### Here N_n is the number of counts in bin n. If the x and y components are independant then we have\n",
    "\n",
    "#### $$ N_B = \\sum f_1(x<a)f_2(y<b) $$\n",
    "#### $$ N_D = \\sum f_1(x<a)f_2(y>b) $$\n",
    "#### $$ N_A = \\sum f_1(x>a)f_2(y>b) $$\n",
    "#### $$ N_C = \\sum f_1(x>a)f_2(y<b) $$\n",
    "\n",
    "#### Now taking our ratios we get\n",
    "\n",
    "#### $$ \\frac{N_B}{N_D} = \\frac{\\sum f_1(x<a)f_2(y>b)}{\\sum f_1(x<a)f_2(y<b)} $$\n",
    "#### $$ \\frac{N_A}{N_C} = \\frac{\\sum f_1(x>a)f_2(y>b)}{\\sum f_1(x>a)f_2(y<b)} $$\n",
    "\n",
    "#### As you can see, the sums of the x components cancel leaving us with the ratios of the sums of the y components, thus giving us an equality.\n",
    "\n",
    "### $$ \\frac{\\sum f_2(y>b)}{\\sum f_2(y<b)} = \\frac{\\sum f_2(y>b)}{\\sum f_2(y<b)} $$\n",
    "\n",
    "#### This equality holds true so from this we can gather that the ABCD method really is valid as long as the x and y components are independant of each other."
   ]
  },
  {
   "cell_type": "code",
   "execution_count": 2,
   "metadata": {},
   "outputs": [],
   "source": [
    "xrand = np.random.uniform(low = 0, high = 1, size = 1000)\n",
    "yrand = np.random.uniform(low = 0, high = 1, size = 1000)\n",
    "#generates our uniform distribution\n",
    "\n",
    "a = np.full(100, 0.6) #creates an array of size 100, and value 0.6\n",
    "b = np.linspace(0, 1, 100) #creates an array of size 100, from 0 to 1"
   ]
  },
  {
   "cell_type": "code",
   "execution_count": 3,
   "metadata": {},
   "outputs": [
    {
     "data": {
      "image/png": "[encoded data removed]",
      "text/plain": [
       "<Figure size 432x288 with 1 Axes>"
      ]
     },
     "metadata": {
      "needs_background": "light"
     },
     "output_type": "display_data"
    }
   ],
   "source": [
    "plot.figure()\n",
    "plot.scatter(xrand, yrand, s = 5, color = 'r')\n",
    "#plots our uniform distribution\n",
    "\n",
    "plot.plot(a, b, 'k--')\n",
    "plot.plot(b, a, 'k--')\n",
    "#plots our bins with black dashed lines\n",
    "\n",
    "plot.text(0.3, 0.8, 'B', fontsize = 25, color = 'b')\n",
    "plot.text(0.3, 0.4, 'D', fontsize = 25, color = 'b')\n",
    "plot.text(0.8, 0.8, 'A', fontsize = 25, color = 'b')\n",
    "plot.text(0.8, 0.4, 'C', fontsize = 25, color = 'b')\n",
    "#creates a text at X, Y positions with specified fontsize and color\n",
    "plot.title('Uniform Distribution')\n",
    "plot.xlabel('X')\n",
    "plot.ylabel('Y')\n",
    "plot.show()"
   ]
  },
  {
   "cell_type": "markdown",
   "metadata": {},
   "source": [
    "### Above is our uniform distribution plot; next we will attempt to prove that the number of counts in our bins follows the ABCD method $(\\frac{N_B}{N_D} = \\frac{N_A}{N_C})$"
   ]
  },
  {
   "cell_type": "code",
   "execution_count": 4,
   "metadata": {},
   "outputs": [
    {
     "name": "stdout",
     "output_type": "stream",
     "text": [
      "2.841642228739005\n"
     ]
    }
   ],
   "source": [
    "Bin_A = np.where((xrand > 0.6) & (yrand > 0.6))\n",
    "Bin_B = np.where((xrand < 0.6) & (yrand > 0.6))\n",
    "Bin_C = np.where((xrand > 0.6) & (yrand < 0.6))\n",
    "Bin_D = np.where((xrand < 0.6) & (yrand < 0.6))\n",
    "\n",
    "#Creates bins of data specified by x and y delimeters\n",
    "\n",
    "B = np.count_nonzero(Bin_B)\n",
    "C = np.count_nonzero(Bin_C)\n",
    "D = np.count_nonzero(Bin_D)\n",
    "\n",
    "#counts the number of data points within our bins\n",
    "\n",
    "A_extrap = (B*C)/D #prediction of A using ABCD method\n",
    "\n",
    "\n",
    "A = np.count_nonzero(Bin_A) #actual count of A\n",
    "\n",
    "Error = np.absolute(A - A_extrap) #difference in predicted and actual\n",
    "print(Error)"
   ]
  },
  {
   "cell_type": "markdown",
   "metadata": {},
   "source": [
    "### Above is our sample of one run. As you can see our error is quite small giving the method some validation. Next we wish to run this code 1000 times over, testing different sample sizes of plotted points(10, 100, 1000, 5000). Afterwards we will plot the errors of each sample size."
   ]
  },
  {
   "cell_type": "code",
   "execution_count": 468,
   "metadata": {},
   "outputs": [],
   "source": [
    "a = 1000 #controls size of sample\n",
    "\n",
    "Y = np.zeros((1000, a))\n",
    "for i in range(1000):\n",
    "    Y[i] = np.random.uniform(low = 0, high = 1, size = a)\n",
    "#creates a matrix of size a x a with each row containing our array of random uniform numbers between 0 & 1\n",
    "\n",
    "X = np.zeros((1000,a))\n",
    "for i in range(1000):\n",
    "    X[i] = np.random.uniform(low = 0, high = 1, size = a)\n",
    "#creates a matrix of size a x a with each row containing our array of random uniform numbers between 0  & 1"
   ]
  },
  {
   "cell_type": "code",
   "execution_count": 469,
   "metadata": {},
   "outputs": [],
   "source": [
    "def A(): #generator function for bin A\n",
    "    for i in range(1000): #starts iteration with with an iteration size of a\n",
    "        Bin_A = np.where((X[i] > 0.6) & (Y[i] > 0.6)) #specifies the bin for sample i. In each row it =>\n",
    "        #filters all values less than 0.6\n",
    "        yield np.count_nonzero(Bin_A) #counts the number of points in bin A for row i\n",
    "\n",
    "#A1 = list(A()) #runs our generator 1000 times and puts the outputs into an array\n",
    "#print(A1) #here I was testing to see if the code worked\n",
    "\n",
    "#generator function for bin value A"
   ]
  },
  {
   "cell_type": "code",
   "execution_count": 470,
   "metadata": {},
   "outputs": [],
   "source": [
    "def B():\n",
    "    for i in range(1000):\n",
    "        Bin_B = np.where((X[i] < 0.6) & (Y[i] > 0.6))\n",
    "        yield np.count_nonzero(Bin_B)\n",
    "\n",
    "# generator function for bin value B"
   ]
  },
  {
   "cell_type": "code",
   "execution_count": 471,
   "metadata": {},
   "outputs": [],
   "source": [
    "def C():\n",
    "    for i in range(1000):\n",
    "        Bin_C = np.where((X[i] > 0.6) & (Y[i] < 0.6))\n",
    "        yield np.count_nonzero(Bin_C)\n",
    "\n",
    "# generator function for bin value C"
   ]
  },
  {
   "cell_type": "code",
   "execution_count": 472,
   "metadata": {},
   "outputs": [],
   "source": [
    "def D():\n",
    "    for i in range(1000):\n",
    "        Bin_D = np.where((X[i] < 0.6) & (Y[i] < 0.6))\n",
    "        yield np.count_nonzero(Bin_D)\n",
    "\n",
    "# generator function for bin value D"
   ]
  },
  {
   "cell_type": "code",
   "execution_count": 473,
   "metadata": {},
   "outputs": [],
   "source": [
    "A1 = list(A())\n",
    "B1 = list(B())\n",
    "C1 = list(C())\n",
    "D1 = list(D())\n",
    "\n",
    "#creates arrays of our bin counts"
   ]
  },
  {
   "cell_type": "code",
   "execution_count": 474,
   "metadata": {},
   "outputs": [],
   "source": [
    "A_extrap1 = []\n",
    "\n",
    "for i in range(1000):\n",
    "    A_extrap1.append((B1[i]*C1[i])/D1[i])\n",
    "\n",
    "# this is the predicted value of A given from each component in lists B, C and D"
   ]
  },
  {
   "cell_type": "code",
   "execution_count": 475,
   "metadata": {},
   "outputs": [],
   "source": [
    "Error1 = []\n",
    "\n",
    "for i in range(1000):\n",
    "    Error1.append(A1[i] - A_extrap1[i])\n",
    "\n",
    "# this is the difference between the actual value of counts in bin 1 and the predicted counts.\n",
    "# our error values are organize in an array."
   ]
  },
  {
   "cell_type": "markdown",
   "metadata": {},
   "source": [
    "### Above is our sample size of 1000. Next we will use a sample size of 100."
   ]
  },
  {
   "cell_type": "code",
   "execution_count": 476,
   "metadata": {},
   "outputs": [],
   "source": [
    "a = 100 #controls size of sample\n",
    "\n",
    "Y = np.zeros((1000, a))\n",
    "for i in range(1000):\n",
    "    Y[i] = np.random.uniform(low = 0, high = 1, size = a)\n",
    "#creates a matrix of size a x a with each row containing our array of random uniform numbers between 0 & 1\n",
    "\n",
    "X = np.zeros((1000,a))\n",
    "for i in range(1000):\n",
    "    X[i] = np.random.uniform(low = 0, high = 1, size = a)\n",
    "#creates a matrix of size a x a with each row containing our array of random uniform numbers between 0  & 1"
   ]
  },
  {
   "cell_type": "code",
   "execution_count": 477,
   "metadata": {},
   "outputs": [],
   "source": [
    "A2 = list(A())\n",
    "B2 = list(B())\n",
    "C2 = list(C())\n",
    "D2 = list(D())"
   ]
  },
  {
   "cell_type": "code",
   "execution_count": 478,
   "metadata": {},
   "outputs": [],
   "source": [
    "A_extrap2 = []\n",
    "\n",
    "for i in range(1000):\n",
    "    A_extrap2.append((B2[i]*C2[i])/D2[i])"
   ]
  },
  {
   "cell_type": "code",
   "execution_count": 479,
   "metadata": {},
   "outputs": [],
   "source": [
    "Error2 = []\n",
    "\n",
    "for i in range(1000):\n",
    "    Error2.append(A2[i] - A_extrap2[i])"
   ]
  },
  {
   "cell_type": "markdown",
   "metadata": {},
   "source": [
    "### Next will be a sample size of 5000"
   ]
  },
  {
   "cell_type": "code",
   "execution_count": 480,
   "metadata": {},
   "outputs": [],
   "source": [
    "a = 5000 #controls size of sample\n",
    "\n",
    "Y = np.zeros((1000, a))\n",
    "for i in range(1000):\n",
    "    Y[i] = np.random.uniform(low = 0, high = 1, size = a)\n",
    "#creates a matrix of size a x a with each row containing our array of random uniform numbers between 0 & 1\n",
    "\n",
    "X = np.zeros((1000,a))\n",
    "for i in range(1000):\n",
    "    X[i] = np.random.uniform(low = 0, high = 1, size = a)\n",
    "#creates a matrix of size a x a with each row containing our array of random uniform numbers between 0  & 1"
   ]
  },
  {
   "cell_type": "code",
   "execution_count": 481,
   "metadata": {},
   "outputs": [],
   "source": [
    "A3 = list(A())\n",
    "B3 = list(B())\n",
    "C3 = list(C())\n",
    "D3 = list(D())"
   ]
  },
  {
   "cell_type": "code",
   "execution_count": 482,
   "metadata": {},
   "outputs": [],
   "source": [
    "A_extrap3 = []\n",
    "\n",
    "for i in range(1000):\n",
    "    A_extrap3.append((B3[i]*C3[i])/D3[i])"
   ]
  },
  {
   "cell_type": "code",
   "execution_count": 483,
   "metadata": {},
   "outputs": [],
   "source": [
    "Error3 = []\n",
    "\n",
    "for i in range(1000):\n",
    "    Error3.append(A3[i] - A_extrap3[i])"
   ]
  },
  {
   "cell_type": "markdown",
   "metadata": {},
   "source": [
    "### Next, we will attempt to run a sample size of 10; however, given that our sample size is so small, it is very possible that we will not have points within one of our bins. Because of this there is a chance that we will divide by zero for our predicted value and get an error."
   ]
  },
  {
   "cell_type": "code",
   "execution_count": 484,
   "metadata": {},
   "outputs": [],
   "source": [
    "a = 10 #controls size of sample\n",
    "\n",
    "Y = np.zeros((1000, a))\n",
    "for i in range(1000):\n",
    "    Y[i] = np.random.uniform(low = 0, high = 1, size = a)\n",
    "#creates a matrix of size a x a with each row containing our array of random uniform numbers between 0 & 1\n",
    "\n",
    "X = np.zeros((1000,a))\n",
    "for i in range(1000):\n",
    "    X[i] = np.random.uniform(low = 0, high = 1, size = a)\n",
    "#creates a matrix of size a x a with each row containing our array of random uniform numbers between 0  & 1"
   ]
  },
  {
   "cell_type": "code",
   "execution_count": 485,
   "metadata": {},
   "outputs": [],
   "source": [
    "A4 = list(A())\n",
    "B4 = list(B())\n",
    "C4 = list(C())\n",
    "D4 = list(D())"
   ]
  },
  {
   "cell_type": "code",
   "execution_count": 486,
   "metadata": {},
   "outputs": [
    {
     "ename": "ZeroDivisionError",
     "evalue": "division by zero",
     "output_type": "error",
     "traceback": [
      "\u001b[1;31m---------------------------------------------------------------------------\u001b[0m",
      "\u001b[1;31mZeroDivisionError\u001b[0m                         Traceback (most recent call last)",
      "\u001b[1;32m<ipython-input-486-b60025888c07>\u001b[0m in \u001b[0;36m<module>\u001b[1;34m\u001b[0m\n\u001b[0;32m      2\u001b[0m \u001b[1;33m\u001b[0m\u001b[0m\n\u001b[0;32m      3\u001b[0m \u001b[1;32mfor\u001b[0m \u001b[0mi\u001b[0m \u001b[1;32min\u001b[0m \u001b[0mrange\u001b[0m\u001b[1;33m(\u001b[0m\u001b[1;36m1000\u001b[0m\u001b[1;33m)\u001b[0m\u001b[1;33m:\u001b[0m\u001b[1;33m\u001b[0m\u001b[1;33m\u001b[0m\u001b[0m\n\u001b[1;32m----> 4\u001b[1;33m     \u001b[0mA_extrap4\u001b[0m\u001b[1;33m.\u001b[0m\u001b[0mappend\u001b[0m\u001b[1;33m(\u001b[0m\u001b[1;33m(\u001b[0m\u001b[0mB4\u001b[0m\u001b[1;33m[\u001b[0m\u001b[0mi\u001b[0m\u001b[1;33m]\u001b[0m\u001b[1;33m*\u001b[0m\u001b[0mC4\u001b[0m\u001b[1;33m[\u001b[0m\u001b[0mi\u001b[0m\u001b[1;33m]\u001b[0m\u001b[1;33m)\u001b[0m\u001b[1;33m/\u001b[0m\u001b[0mD4\u001b[0m\u001b[1;33m[\u001b[0m\u001b[0mi\u001b[0m\u001b[1;33m]\u001b[0m\u001b[1;33m)\u001b[0m\u001b[1;33m\u001b[0m\u001b[1;33m\u001b[0m\u001b[0m\n\u001b[0m",
      "\u001b[1;31mZeroDivisionError\u001b[0m: division by zero"
     ]
    }
   ],
   "source": [
    "A_extrap4 = []\n",
    "\n",
    "for i in range(1000):\n",
    "    A_extrap4.append((B4[i]*C4[i])/D4[i])"
   ]
  },
  {
   "cell_type": "code",
   "execution_count": 487,
   "metadata": {},
   "outputs": [
    {
     "ename": "IndexError",
     "evalue": "list index out of range",
     "output_type": "error",
     "traceback": [
      "\u001b[1;31m---------------------------------------------------------------------------\u001b[0m",
      "\u001b[1;31mIndexError\u001b[0m                                Traceback (most recent call last)",
      "\u001b[1;32m<ipython-input-487-93953da8ef2e>\u001b[0m in \u001b[0;36m<module>\u001b[1;34m\u001b[0m\n\u001b[0;32m      2\u001b[0m \u001b[1;33m\u001b[0m\u001b[0m\n\u001b[0;32m      3\u001b[0m \u001b[1;32mfor\u001b[0m \u001b[0mi\u001b[0m \u001b[1;32min\u001b[0m \u001b[0mrange\u001b[0m\u001b[1;33m(\u001b[0m\u001b[1;36m1000\u001b[0m\u001b[1;33m)\u001b[0m\u001b[1;33m:\u001b[0m\u001b[1;33m\u001b[0m\u001b[1;33m\u001b[0m\u001b[0m\n\u001b[1;32m----> 4\u001b[1;33m     \u001b[0mError4\u001b[0m\u001b[1;33m.\u001b[0m\u001b[0mappend\u001b[0m\u001b[1;33m(\u001b[0m\u001b[0mA4\u001b[0m\u001b[1;33m[\u001b[0m\u001b[0mi\u001b[0m\u001b[1;33m]\u001b[0m \u001b[1;33m-\u001b[0m \u001b[0mA_extrap4\u001b[0m\u001b[1;33m[\u001b[0m\u001b[0mi\u001b[0m\u001b[1;33m]\u001b[0m\u001b[1;33m)\u001b[0m\u001b[1;33m\u001b[0m\u001b[1;33m\u001b[0m\u001b[0m\n\u001b[0m",
      "\u001b[1;31mIndexError\u001b[0m: list index out of range"
     ]
    }
   ],
   "source": [
    "Error4 = []\n",
    "\n",
    "for i in range(1000):\n",
    "    Error4.append(A4[i] - A_extrap4[i])"
   ]
  },
  {
   "cell_type": "markdown",
   "metadata": {},
   "source": [
    "### Next we'll run a sample size of 10000"
   ]
  },
  {
   "cell_type": "code",
   "execution_count": 488,
   "metadata": {},
   "outputs": [],
   "source": [
    "a = 10000 #controls size of sample\n",
    "\n",
    "Y = np.zeros((1000, a))\n",
    "for i in range(1000):\n",
    "    Y[i] = np.random.uniform(low = 0, high = 1, size = a)\n",
    "#creates a matrix of size a x a with each row containing our array of random uniform numbers between 0 & 1\n",
    "\n",
    "X = np.zeros((1000,a))\n",
    "for i in range(1000):\n",
    "    X[i] = np.random.uniform(low = 0, high = 1, size = a)\n",
    "#creates a matrix of size a x a with each row containing our array of random uniform numbers between 0  & 1"
   ]
  },
  {
   "cell_type": "code",
   "execution_count": 489,
   "metadata": {},
   "outputs": [],
   "source": [
    "A5 = list(A())\n",
    "B5 = list(B())\n",
    "C5 = list(C())\n",
    "D5 = list(D())"
   ]
  },
  {
   "cell_type": "code",
   "execution_count": 490,
   "metadata": {},
   "outputs": [],
   "source": [
    "A_extrap5 = []\n",
    "\n",
    "for i in range(1000):\n",
    "    A_extrap5.append((B5[i]*C5[i])/D5[i])"
   ]
  },
  {
   "cell_type": "code",
   "execution_count": 491,
   "metadata": {},
   "outputs": [],
   "source": [
    "Error5 = []\n",
    "\n",
    "for i in range(1000):\n",
    "    Error5.append(A5[i] - A_extrap5[i])"
   ]
  },
  {
   "cell_type": "markdown",
   "metadata": {},
   "source": [
    "### Nexta sample size of 50000"
   ]
  },
  {
   "cell_type": "code",
   "execution_count": 492,
   "metadata": {},
   "outputs": [],
   "source": [
    "a = 50000 #controls size of sample\n",
    "\n",
    "Y = np.zeros((1000, a))\n",
    "for i in range(1000):\n",
    "    Y[i] = np.random.uniform(low = 0, high = 1, size = a)\n",
    "#creates a matrix of size a x a with each row containing our array of random uniform numbers between 0 & 1\n",
    "\n",
    "X = np.zeros((1000,a))\n",
    "for i in range(1000):\n",
    "    X[i] = np.random.uniform(low = 0, high = 1, size = a)\n",
    "#creates a matrix of size a x a with each row containing our array of random uniform numbers between 0  & 1"
   ]
  },
  {
   "cell_type": "code",
   "execution_count": 493,
   "metadata": {},
   "outputs": [],
   "source": [
    "A6 = list(A())\n",
    "B6 = list(B())\n",
    "C6 = list(C())\n",
    "D6 = list(D())"
   ]
  },
  {
   "cell_type": "code",
   "execution_count": 494,
   "metadata": {},
   "outputs": [],
   "source": [
    "A_extrap6 = []\n",
    "\n",
    "for i in range(1000):\n",
    "    A_extrap6.append((B6[i]*C6[i])/D6[i])"
   ]
  },
  {
   "cell_type": "code",
   "execution_count": 495,
   "metadata": {},
   "outputs": [],
   "source": [
    "Error6 = []\n",
    "\n",
    "for i in range(1000):\n",
    "    Error6.append(A6[i] - A_extrap6[i])"
   ]
  },
  {
   "cell_type": "code",
   "execution_count": 496,
   "metadata": {},
   "outputs": [
    {
     "data": {
      "image/png": "[encoded data removed]",
      "text/plain": [
       "<Figure size 432x288 with 6 Axes>"
      ]
     },
     "metadata": {
      "needs_background": "light"
     },
     "output_type": "display_data"
    }
   ],
   "source": [
    "plot.figure()\n",
    "\n",
    "plot.subplot(231) #calls the first plot in our 2 x 6 array of plots\n",
    "plot.hist(Error4, 20) #prints histogram plot with 20 bins\n",
    "plot.title('Sample Size = 10')\n",
    "\n",
    "plot.subplot(232)\n",
    "plot.hist(Error2, 20)\n",
    "plot.title('Sample Size = 100')\n",
    "\n",
    "plot.subplot(233)\n",
    "plot.hist(Error1, 20)\n",
    "plot.title('Sample Size = 1000')\n",
    "\n",
    "\n",
    "plot.subplot(234)\n",
    "plot.hist(Error3, 20)\n",
    "plot.title('Sample Size = 5000')\n",
    "plot.xlabel('Error')\n",
    "\n",
    "plot.subplot(235)\n",
    "plot.hist(Error5, 20)\n",
    "plot.title('Sample Size = 10,000')\n",
    "plot.xlabel('Error')\n",
    "\n",
    "plot.subplot(236)\n",
    "plot.hist(Error6, 20)\n",
    "plot.title('Sample Size = 50,000')\n",
    "plot.xlabel('Error')\n",
    "\n",
    "\n",
    "plot.subplots_adjust(top = 1, right = 1.5, wspace = 0.5, hspace = 0.5) #adjusts the axes of the plots\n",
    "# did this because they were meshing together\n",
    "\n",
    "plot.show()"
   ]
  },
  {
   "cell_type": "code",
   "execution_count": 497,
   "metadata": {},
   "outputs": [],
   "source": [
    "sigma1 = np.std(Error4) #np.std gives the standard deviation of a given array\n",
    "sigma2 = np.std(Error2)\n",
    "sigma3 = np.std(Error1)\n",
    "sigma4 = np.std(Error3)\n",
    "sigma5 = np.std(Error5)\n",
    "sigma6 = np.std(Error6)\n",
    "\n",
    "sigma = [sigma1, sigma2, sigma3, sigma4, sigma5, sigma6] #organizes our sigma values in an array to plot\n",
    "samplesize = [10, 100, 1000, 5000, 10000, 50000] #x values to plot against to set the scale of the plot"
   ]
  },
  {
   "cell_type": "code",
   "execution_count": 498,
   "metadata": {},
   "outputs": [
    {
     "data": {
      "image/png": "[encoded data removed]",
      "text/plain": [
       "<Figure size 432x288 with 1 Axes>"
      ]
     },
     "metadata": {
      "needs_background": "light"
     },
     "output_type": "display_data"
    }
   ],
   "source": [
    "plot.plot(samplesize, sigma, '--r')\n",
    "plot.title('Sigma as a Function of Statistics')\n",
    "plot.xlabel('Sample Size')\n",
    "plot.ylabel('Sigma')\n",
    "plot.show()"
   ]
  },
  {
   "cell_type": "code",
   "execution_count": null,
   "metadata": {},
   "outputs": [],
   "source": []
  }
 ],
 "metadata": {
  "kernelspec": {
   "display_name": "Python 3",
   "language": "python",
   "name": "python3"
  },
  "language_info": {
   "codemirror_mode": {
    "name": "ipython",
    "version": 3
   },
   "file_extension": ".py",
   "mimetype": "text/x-python",
   "name": "python",
   "nbconvert_exporter": "python",
   "pygments_lexer": "ipython3",
   "version": "3.7.4"
  }
 },
 "nbformat": 4,
 "nbformat_minor": 4
}
